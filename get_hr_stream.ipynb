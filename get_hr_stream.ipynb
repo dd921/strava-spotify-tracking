{
 "cells": [
  {
   "cell_type": "code",
   "execution_count": 1,
   "metadata": {},
   "outputs": [],
   "source": [
    "import time\n",
    "import pickle\n",
    "import pandas as pd\n",
    "import numpy as np\n",
    "\n",
    "import matplotlib\n",
    "import matplotlib.pyplot as plt\n",
    "import seaborn as sns\n",
    "import yaml\n",
    "import folium\n",
    "import pytz\n",
    "import datetime as dt\n",
    "import ast\n",
    "import plotly.graph_objects as go\n",
    "import os\n",
    "import random\n",
    "\n",
    "from stravalib import Client\n",
    "pd.set_option(\"display.max_columns\", 100)"
   ]
  },
  {
   "cell_type": "code",
   "execution_count": 2,
   "metadata": {},
   "outputs": [
    {
     "name": "stdout",
     "output_type": "stream",
     "text": [
      "https://www.strava.com/oauth/authorize?client_id=105395&redirect_uri=http%3A%2F%2F127.0.0.1%3A5000%2Fauthorization&approval_prompt=auto&scope=read_all%2Cprofile%3Aread_all%2Cactivity%3Aread_all&response_type=code\n"
     ]
    }
   ],
   "source": [
    "# Get Data\n",
    "with open('~/strava-spotify-tracking/access_tokens/config.yaml', 'r') as config_file:\n",
    "    config = yaml.safe_load(config_file)\n",
    "\n",
    "# Access the configuration data\n",
    "client_id = config['STRAVA_API']['client_id']\n",
    "client_secret = config['STRAVA_API']['client_secret']\n",
    "redirect_uri = config['STRAVA_API']['redirect_uri']\n",
    "\n",
    "client = Client()\n",
    "authorize_url = client.authorization_url(\n",
    "    client_id=client_id, redirect_uri=redirect_uri,\n",
    "    scope=['read_all','profile:read_all','activity:read_all']\n",
    ")\n",
    "\n",
    "print(authorize_url)"
   ]
  },
  {
   "cell_type": "code",
   "execution_count": 5,
   "metadata": {},
   "outputs": [],
   "source": [
    "# authorize_url\n",
    "CODE = '4210381afd4520000fdb50a86ab772595b5d733e'"
   ]
  },
  {
   "cell_type": "code",
   "execution_count": 6,
   "metadata": {},
   "outputs": [],
   "source": [
    "access_token = client.exchange_code_for_token(client_id=client_id, client_secret=client_secret, code=CODE)\n",
    "with open('../access_token.pickle', 'wb') as f:\n",
    "    pickle.dump(access_token, f)\n",
    "    "
   ]
  },
  {
   "cell_type": "code",
   "execution_count": 7,
   "metadata": {},
   "outputs": [
    {
     "name": "stdout",
     "output_type": "stream",
     "text": [
      "Latest access token read from file:\n",
      "Token still valid, expires at Sat, 24 Feb 2024 20:35:42 EST\n"
     ]
    }
   ],
   "source": [
    "with open('../access_token.pickle', 'rb') as f:\n",
    "    access_token = pickle.load(f)\n",
    "    \n",
    "print('Latest access token read from file:')\n",
    "access_token\n",
    "\n",
    "\n",
    "if time.time() > access_token['expires_at']:\n",
    "    print('Token has expired, will refresh')\n",
    "    refresh_response = client.refresh_access_token(client_id=MY_STRAVA_CLIENT_ID, \n",
    "                                               client_secret=MY_STRAVA_CLIENT_SECRET, \n",
    "                                               refresh_token=access_token['refresh_token'])\n",
    "    access_token = refresh_response\n",
    "    with open('../access_token.pickle', 'wb') as f:\n",
    "        pickle.dump(refresh_response, f)\n",
    "    print('Refreshed token saved to file')\n",
    "\n",
    "    client.access_token = refresh_response['access_token']\n",
    "    client.refresh_token = refresh_response['refresh_token']\n",
    "    client.token_expires_at = refresh_response['expires_at']\n",
    "        \n",
    "else:\n",
    "    print('Token still valid, expires at {}'\n",
    "          .format(time.strftime(\"%a, %d %b %Y %H:%M:%S %Z\", time.localtime(access_token['expires_at']))))\n",
    "\n",
    "    client.access_token = access_token['access_token']\n",
    "    client.refresh_token = access_token['refresh_token']\n",
    "    client.token_expires_at = access_token['expires_at']"
   ]
  },
  {
   "cell_type": "code",
   "execution_count": null,
   "metadata": {},
   "outputs": [],
   "source": [
    "athlete = client.get_athlete()\n",
    "print(\"Athlete's name is {} {}, based in {}, {}\"\n",
    "      .format(athlete.firstname, athlete.lastname, athlete.city, athlete.country))\n",
    "\n",
    "activities = client.get_activities(limit=1000)\n",
    "list(activities)[0:10]"
   ]
  },
  {
   "cell_type": "code",
   "execution_count": 14,
   "metadata": {},
   "outputs": [],
   "source": [
    "# Choose some fields of interest from this data in order to read into a DataFrame\n",
    "my_cols =['name',\n",
    "          'start_date_local',\n",
    "          'type',\n",
    "          'distance',\n",
    "          'moving_time',\n",
    "          'elapsed_time',\n",
    "          'total_elevation_gain',\n",
    "          'elev_high',\n",
    "          'elev_low',\n",
    "          'average_speed',\n",
    "          'max_speed',\n",
    "          'average_heartrate',\n",
    "          'max_heartrate',\n",
    "          'start_latlng']\n",
    "\n",
    "data = []\n",
    "for activity in activities:\n",
    "    my_dict = activity.to_dict()\n",
    "    data.append([activity.id]+[my_dict.get(x) for x in my_cols])\n",
    "    \n",
    "# Add id to the beginning of the columns, used when selecting a specific activity\n",
    "my_cols.insert(0,'id')"
   ]
  },
  {
   "cell_type": "code",
   "execution_count": 15,
   "metadata": {},
   "outputs": [],
   "source": [
    "def get_hr_stream(activities_df, stream_types: list):\n",
    "    ''' GET STREAM DATA FOR HEARTRATE ON STRAVA ACTIVITIES'''\n",
    "    return_stream = {}\n",
    "\n",
    "    for id in activities_df.id:\n",
    "        try:\n",
    "            streams = client.get_activity_streams(id, types=stream_types, resolution=\"medium\")\n",
    "            if streams:\n",
    "                if \"time\" in streams.keys() and \"heartrate\" in streams.keys():\n",
    "                    return_stream[id] = {\n",
    "                        'time': list(streams[\"time\"].data),\n",
    "                        'heartrate': list(streams[\"heartrate\"].data)\n",
    "                    }\n",
    "        except:\n",
    "            pass\n",
    "\n",
    "    return return_stream\n",
    "\n"
   ]
  },
  {
   "cell_type": "code",
   "execution_count": 16,
   "metadata": {},
   "outputs": [],
   "source": [
    "\n",
    "# Load Existing Activity Data from CSV\n",
    "cwd = os.getcwd()\n",
    "\n",
    "activities_df = pd.read_csv(f'{cwd}/user_data/strava_activities.csv')\n",
    "df_activity = activities_df[['id','name','distance', 'start_date','start_date_local','elapsed_time','end_date']]\n",
    "\n",
    "stream_types = [\"time\", \"heartrate\"]\n",
    "d = get_hr_stream(df_activity,stream_types)\n",
    "df_heartrate = pd.DataFrame.from_dict(d, orient='index')\n",
    "\n",
    "existing_csv_path = f\"{cwd}/user_data/strava_heartrate.csv\"\n",
    "if os.path.exists(existing_csv_path):\n",
    "    existing_df = pd.read_csv(existing_csv_path)\n",
    "    existing_ids = existing_df['id'].tolist()\n",
    "    new_ids = [id for id in df_heartrate.index if id not in existing_ids]\n",
    "    new_df = df_heartrate.loc[new_ids]\n",
    "    new_df.to_csv(existing_csv_path, mode='a', header=False, index=False)\n",
    "else:\n",
    "    df_heartrate.to_csv(existing_csv_path, index=False)"
   ]
  },
  {
   "cell_type": "code",
   "execution_count": null,
   "metadata": {},
   "outputs": [],
   "source": []
  }
 ],
 "metadata": {
  "kernelspec": {
   "display_name": "stravaspot",
   "language": "python",
   "name": "python3"
  },
  "language_info": {
   "codemirror_mode": {
    "name": "ipython",
    "version": 3
   },
   "file_extension": ".py",
   "mimetype": "text/x-python",
   "name": "python",
   "nbconvert_exporter": "python",
   "pygments_lexer": "ipython3",
   "version": "3.9.18"
  }
 },
 "nbformat": 4,
 "nbformat_minor": 2
}
